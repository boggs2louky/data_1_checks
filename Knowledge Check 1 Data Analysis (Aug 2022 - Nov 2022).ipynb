{
 "cells": [
  {
   "cell_type": "code",
   "execution_count": 1,
   "id": "105dcbb6",
   "metadata": {},
   "outputs": [
    {
     "name": "stdout",
     "output_type": "stream",
     "text": [
      "Hello World!\n"
     ]
    }
   ],
   "source": [
    "print(\"Hello World!\")"
   ]
  },
  {
   "cell_type": "code",
   "execution_count": 2,
   "id": "463c18e9",
   "metadata": {},
   "outputs": [
    {
     "name": "stdout",
     "output_type": "stream",
     "text": [
      "[10, 0.0072992700729927005, 'The Fine Structure Constant']\n"
     ]
    }
   ],
   "source": [
    "list_0 = [10, 1/137, \"The Fine Structure Constant\"]\n",
    "print(list_0)"
   ]
  },
  {
   "cell_type": "code",
   "execution_count": 5,
   "id": "08ff4400",
   "metadata": {},
   "outputs": [
    {
     "name": "stdout",
     "output_type": "stream",
     "text": [
      "0.0072992700729927005\n"
     ]
    }
   ],
   "source": [
    "print(list_0[1])"
   ]
  },
  {
   "cell_type": "code",
   "execution_count": 8,
   "id": "59485f27",
   "metadata": {},
   "outputs": [
    {
     "name": "stdout",
     "output_type": "stream",
     "text": [
      "Bobaggins\n"
     ]
    }
   ],
   "source": [
    "dict_0 = {\"key_1\" : \"Russ\", \"key_2\" : \"Bobaggins\"}\n",
    "print(dict_0[\"key_2\"])"
   ]
  },
  {
   "cell_type": "code",
   "execution_count": 9,
   "id": "9499fdbd",
   "metadata": {},
   "outputs": [
    {
     "name": "stdout",
     "output_type": "stream",
     "text": [
      "Barrett the Sid\n"
     ]
    }
   ],
   "source": [
    "tuple_0 = (\"Russ Bobaggins\", \"Thom Thumb\", \"Floyd the Pink\", \"Barrett the Sid\")\n",
    "print(tuple_0[3])"
   ]
  }
 ],
 "metadata": {
  "kernelspec": {
   "display_name": "Python 3 (ipykernel)",
   "language": "python",
   "name": "python3"
  },
  "language_info": {
   "codemirror_mode": {
    "name": "ipython",
    "version": 3
   },
   "file_extension": ".py",
   "mimetype": "text/x-python",
   "name": "python",
   "nbconvert_exporter": "python",
   "pygments_lexer": "ipython3",
   "version": "3.9.12"
  }
 },
 "nbformat": 4,
 "nbformat_minor": 5
}
